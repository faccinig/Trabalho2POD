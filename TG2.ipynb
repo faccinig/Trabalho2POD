{
 "cells": [
  {
   "cell_type": "markdown",
   "id": "e1980781",
   "metadata": {},
   "source": [
    "# [Prof. Dalvan Griebler](mailto:dalvan.griebler@pucrs.br)\n",
    "\n",
    "## Programação Orientada a Dados (POD) - Turma 10 (POD_98H04-06)\n",
    "\n",
    "**Atualizado**: 21/11/2021\n",
    "\n",
    "**Descrição**: Trabalho em Grupo: Manipulação, Análise e Visualização Vetorial e Tabular de Dados\n",
    "\n",
    "\n",
    "**Copyright &copy;**: Este documento está sob a licensa da Criative Commons [BY-NC-ND 4.0](https://creativecommons.org/licenses/by-nc-nd/4.0/legalcode)"
   ]
  },
  {
   "cell_type": "markdown",
   "id": "1cfa6ee1",
   "metadata": {},
   "source": [
    "## Trabalho realizado por:"
   ]
  },
  {
   "cell_type": "markdown",
   "id": "73f9865e",
   "metadata": {},
   "source": [
    "Guilherme Faccini - 21180419"
   ]
  },
  {
   "cell_type": "markdown",
   "id": "1d43a7fa",
   "metadata": {},
   "source": [
    "# Bibliotecas Autorizadas\n",
    "\n",
    "Não importe outras bibliotecas além destas, pois não estão autorizadas para o uso."
   ]
  },
  {
   "cell_type": "code",
   "execution_count": 1,
   "id": "7ec62943",
   "metadata": {},
   "outputs": [
    {
     "name": "stderr",
     "output_type": "stream",
     "text": [
      "Matplotlib is building the font cache; this may take a moment.\n"
     ]
    }
   ],
   "source": [
    "import numpy as np\n",
    "import pandas as pd\n",
    "from matplotlib import pyplot as plt\n",
    "from PIL import Image"
   ]
  },
  {
   "cell_type": "code",
   "execution_count": 6,
   "id": "0fac1b57",
   "metadata": {},
   "outputs": [],
   "source": [
    "%matplotlib inline"
   ]
  },
  {
   "cell_type": "markdown",
   "id": "6c8347e6",
   "metadata": {},
   "source": [
    "# Manipulação Vetorial\n",
    "\n",
    "Obs: não será permitido o uso de laços nesta parte do trabalho sobre manipulação vetorial."
   ]
  },
  {
   "cell_type": "markdown",
   "id": "8e54df5b",
   "metadata": {},
   "source": [
    "## 1. Crie um array 2D `shape(10,10)` com os seguintes valores.\n",
    "\n",
    "```bash\n",
    "[[-4 -4  0 -4 -4 -4  0 -4 -4 -4]\n",
    " [-4 -4 -4 -4 -4 -4 -4 -4 -4 -4]\n",
    " [ 0 -4 -4 -4  0 -4 -4 -4  0 -4]\n",
    " [-4 -4 -4 -4 -4 -4 -4 -4 -4 -4]\n",
    " [-4 -4  0 -4 -4 -4  0 -4 -4 -4]\n",
    " [-4 -4 -4 -4 -4 -4 -4 -4 -4 -4]\n",
    " [ 0 -4 -4 -4  0 -4 -4 -4  0 -4]\n",
    " [-4 -4 -4 -4 -4 -4 -4 -4 -4 -4]\n",
    " [-4 -4  0 -4 -4 -4  0 -4 -4 -4]\n",
    " [-4 -4 -4 -4 -4 -4 -4 -4 -4 -4]]\n",
    " ```"
   ]
  },
  {
   "cell_type": "code",
   "execution_count": 5,
   "id": "234f4074",
   "metadata": {},
   "outputs": [
    {
     "data": {
      "text/plain": [
       "array([[-4, -4,  0, -4, -4, -4,  0, -4, -4, -4],\n",
       "       [-4, -4, -4, -4, -4, -4, -4, -4, -4, -4],\n",
       "       [ 0, -4, -4, -4,  0, -4, -4, -4,  0, -4],\n",
       "       [-4, -4, -4, -4, -4, -4, -4, -4, -4, -4],\n",
       "       [-4, -4,  0, -4, -4, -4,  0, -4, -4, -4],\n",
       "       [-4, -4, -4, -4, -4, -4, -4, -4, -4, -4],\n",
       "       [ 0, -4, -4, -4,  0, -4, -4, -4,  0, -4],\n",
       "       [-4, -4, -4, -4, -4, -4, -4, -4, -4, -4],\n",
       "       [-4, -4,  0, -4, -4, -4,  0, -4, -4, -4],\n",
       "       [-4, -4, -4, -4, -4, -4, -4, -4, -4, -4]])"
      ]
     },
     "execution_count": 5,
     "metadata": {},
     "output_type": "execute_result"
    }
   ],
   "source": [
    "matrix = np.array([[-4,-4, 0,-4,-4,-4, 0,-4,-4,-4],\n",
    "                   [-4,-4,-4,-4,-4,-4,-4,-4,-4,-4],\n",
    "                   [ 0,-4,-4,-4, 0,-4,-4,-4, 0,-4],\n",
    "                   [-4,-4,-4,-4,-4,-4,-4,-4,-4,-4],\n",
    "                   [-4,-4, 0,-4,-4,-4, 0,-4,-4,-4],\n",
    "                   [-4,-4,-4,-4,-4,-4,-4,-4,-4,-4],\n",
    "                   [ 0,-4,-4,-4, 0,-4,-4,-4, 0,-4],\n",
    "                   [-4,-4,-4,-4,-4,-4,-4,-4,-4,-4],\n",
    "                   [-4,-4, 0,-4,-4,-4, 0,-4,-4,-4],\n",
    "                   [-4,-4,-4,-4,-4,-4,-4,-4,-4,-4]])\n",
    "matrix"
   ]
  },
  {
   "cell_type": "markdown",
   "id": "3aa3256d",
   "metadata": {},
   "source": [
    "## 2. Dado os valores `x`, `y1`, `y2` e `y3`, reproduza o seguinte gráfico.\n",
    "```python\n",
    "np.random.seed(0)\n",
    "x = np.arange(10)\n",
    "y1 = np.array([1.4, 3.2, 2, 4.2, 6.8, 8.7, 9.2, 9, 9.8, 10])\n",
    "y2 = np.array([0, 1, 2, 3, 4, 5, 6, 7, 8, 9])\n",
    "y3 = np.array([1, 1.2, 1.3, 1.4, 1.5, 3, 3, 3, 2, 1])\n",
    "```\n",
    "**Resultado Esperado:**\n",
    "\n",
    "![](dados/fig-tg2-ex2.png)"
   ]
  },
  {
   "cell_type": "code",
   "execution_count": 7,
   "id": "240c0d82",
   "metadata": {},
   "outputs": [],
   "source": [
    "np.random.seed(0)\n",
    "x = np.arange(10)\n",
    "y1 = np.array([1.4, 3.2, 2, 4.2, 6.8, 8.7, 9.2, 9, 9.8, 10])\n",
    "y2 = np.array([0, 1, 2, 3, 4, 5, 6, 7, 8, 9])\n",
    "y3 = np.array([1, 1.2, 1.3, 1.4, 1.5, 3, 3, 3, 2, 1])"
   ]
  },
  {
   "cell_type": "code",
   "execution_count": 44,
   "id": "c9d0e626",
   "metadata": {},
   "outputs": [
    {
     "data": {
      "image/png": "[encoded data removed]",
      "text/plain": [
       "<Figure size 432x288 with 1 Axes>"
      ]
     },
     "metadata": {
      "needs_background": "light"
     },
     "output_type": "display_data"
    }
   ],
   "source": [
    "plt.title(\"Resultados\")\n",
    "plt.xlabel(\"Configurações\")\n",
    "plt.ylabel(\"Desempenho\")\n",
    "plt.grid()\n",
    "# A cor não parece a mesma mas não descobri a correta\n",
    "plt.plot(y1, color='darkorange', marker='^', label='melhor') \n",
    "plt.plot(y2, color='blue', marker='o', mfc='lightgrey', label='ideal')\n",
    "# tambem não consegui descobrir o estilo de linha correto\n",
    "plt.plot(y3, linestyle = 'dotted',color = 'grey', label='pior')\n",
    "plt.legend()\n",
    "plt.show()"
   ]
  },
  {
   "cell_type": "markdown",
   "id": "0d9eeefe",
   "metadata": {},
   "source": [
    "## 3. Dado as funções `sigmoid` e `relu`, apresente em um gráfico o intervalo de `[-6, 6]` com espaçamento de `0.4` entre os elementos para o eixo `_x_`.\n",
    "```python\n",
    "def sigmoid(x):\n",
    "    return 1 / (1 + np.exp(-x))\n",
    "\n",
    "def relu(x):\n",
    "    return np.maximum(0, x)\n",
    "```\n",
    "\n",
    "\n",
    "**Resultado Esperado:**\n",
    "\n",
    "![](dados/fig-tg2-ex3.png)"
   ]
  },
  {
   "cell_type": "code",
   "execution_count": 29,
   "id": "ed8351e2",
   "metadata": {},
   "outputs": [],
   "source": [
    "def sigmoid(x):\n",
    "    return 1 / (1 + np.exp(-x))\n",
    "\n",
    "def relu(x):\n",
    "    return np.maximum(0, x)"
   ]
  },
  {
   "cell_type": "code",
   "execution_count": 48,
   "id": "4e1b46ba",
   "metadata": {},
   "outputs": [
    {
     "data": {
      "text/plain": [
       "<function matplotlib.pyplot.show(close=None, block=None)>"
      ]
     },
     "execution_count": 48,
     "metadata": {},
     "output_type": "execute_result"
    },
    {
     "data": {
      "image/png": "[encoded data removed]",
      "text/plain": [
       "<Figure size 432x288 with 1 Axes>"
      ]
     },
     "metadata": {
      "needs_background": "light"
     },
     "output_type": "display_data"
    }
   ],
   "source": [
    "x = np.linspace(-6, 6, 1000)\n",
    "plt.plot(x, sigmoid(x), label=\"sigmoid\")\n",
    "plt.plot(x, relu(x), label=\"relu\")\n",
    "plt.legend()\n",
    "plt.show"
   ]
  },
  {
   "cell_type": "markdown",
   "id": "d642b9c4",
   "metadata": {},
   "source": [
    "## 4. Dado essa [Imagem](dados/dog.png), faça:\n",
    "- Carregue a imagem em um `np.array`\n",
    "- Crie uma figura com 3 `Axes` (uma linha e três colunas)\n",
    "- `Axes` (1, 1): visualize a imagem original\n",
    "- `Axes` (1, 2): visualize a imagem com um flip horizontal\n",
    "- `Axes` (1, 3): visualize a imagem com um flip vertical\n",
    "\n",
    "_Observação: utilize somente idexação e fatiamento_\n",
    "\n",
    "\n",
    "**Resultado Esperado:**\n",
    "\n",
    "![](dados/fig-tg2-ex4.png)"
   ]
  },
  {
   "cell_type": "code",
   "execution_count": null,
   "id": "d021f49d",
   "metadata": {},
   "outputs": [],
   "source": []
  },
  {
   "cell_type": "markdown",
   "id": "63f558a2",
   "metadata": {},
   "source": [
    "# Manipulação Tabular com Dataset FIFA 19\n",
    "\n",
    "OBS: Todos os gráficos gerados nesta parte precisam ter Título e identificação dos eixos. Permitam também que seja possível visualizar os dados dos eixos."
   ]
  },
  {
   "cell_type": "markdown",
   "id": "2e589ccf",
   "metadata": {},
   "source": [
    "## 5. Junte as informações dos jogadores que estão distribuidas nos dois arquivos (`fifa19_info_data.csv` e `fifa19_stats_data.csv`). Após isso, corrija apenas os dados que serão usados posteriormente.\n",
    "\n",
    "Obs: não é permido o uso de laços nesta questão.\n",
    "\n",
    "_**Sugestão referente aos dados ausentes**: Para o `Dribbling` e `BallControl` preencha os dados ausentes com a média total e para os dados ausentes de `Club` apenas coloque `Sem Clube`._"
   ]
  },
  {
   "cell_type": "code",
   "execution_count": 53,
   "id": "f430b07e",
   "metadata": {},
   "outputs": [],
   "source": [
    "df1 = pd.read_csv(\"dados/fifa19_info_data.csv\")\n",
    "df2 = pd.read_csv(\"dados/fifa19_stats_data.csv\")\n",
    "\n",
    "fifa = df1.merge(df2, on=\"ID\", how='left')"
   ]
  },
  {
   "cell_type": "code",
   "execution_count": 62,
   "id": "efeb622a",
   "metadata": {},
   "outputs": [],
   "source": [
    "fifa['Dribbling'] = fifa['Dribbling'].replace(np.nan,fifa['Dribbling'].mean())\n",
    "fifa['BallControl'] = fifa['BallControl'].replace(np.nan,fifa['BallControl'].mean())\n",
    "fifa['Club'] = fifa['Club'].replace(np.nan, 'Sem Clube')"
   ]
  },
  {
   "cell_type": "markdown",
   "id": "34e117b3",
   "metadata": {},
   "source": [
    "## 6. Calcule e mostre a média de agilidade e do valor de mercado dos jogadores das equipes de Grêmio e Internacional. \n",
    "\n",
    "Obs: não é permido o uso de laços nesta questão."
   ]
  },
  {
   "cell_type": "code",
   "execution_count": null,
   "id": "2702624e",
   "metadata": {},
   "outputs": [],
   "source": []
  },
  {
   "cell_type": "markdown",
   "id": "4e62e933",
   "metadata": {},
   "source": [
    "## 7. Mostre em um gráfico de barras os top 10 clubes baseado na média do controle de bola (`BallControl`) de seus jogadores.\n",
    "\n",
    "Requisito: colocar o valor com 2 casas decimais após a vírgula no topo de cada barra.\n",
    "\n",
    "\n",
    "**Resultado Esperado:**\n",
    "\n",
    "![](dados/fig-tg2-ex7.png)"
   ]
  },
  {
   "cell_type": "code",
   "execution_count": 127,
   "id": "40d529e7",
   "metadata": {},
   "outputs": [
    {
     "data": {
      "image/png": "[encoded data removed]",
      "text/plain": [
       "<Figure size 432x288 with 1 Axes>"
      ]
     },
     "metadata": {
      "needs_background": "light"
     },
     "output_type": "display_data"
    }
   ],
   "source": [
    "bar_data = fifa\\\n",
    "    .groupby('Club')['BallControl'] \\\n",
    "    .mean() \\\n",
    "    .reset_index() \\\n",
    "    .nlargest(10,['BallControl']) \\\n",
    "    .set_index('Club')\n",
    "\n",
    "teste = bar_data.plot.bar(title=\"Top 10 Controle de Bola Médio\", legend=False)\n",
    "\n",
    "for altura, x in zip(bar_data['BallControl'],range(10)):\n",
    "    plt.text(x - .5,altura + 1, f\"{altura:.2f}\")\n",
    "\n",
    "plt.xlabel(\"Clubes\")\n",
    "plt.ylabel(\"Controle de Bola\")\n",
    "plt.xticks(rotation=30, horizontalalignment=\"right\")\n",
    "plt.show()"
   ]
  },
  {
   "cell_type": "markdown",
   "id": "0c7180a4",
   "metadata": {},
   "source": [
    "## 8. Mostre em um gráfico de pizza com porcentagem os 10 países que mais possuem jogadores no conjunto de dados.\n",
    "\n",
    "Requisito: destaque a menor fatia.\n",
    "\n",
    "**Resultado Esperado:**\n",
    "\n",
    "![](dados/fig-tg2-ex8.png)"
   ]
  },
  {
   "cell_type": "code",
   "execution_count": null,
   "id": "f085752e",
   "metadata": {},
   "outputs": [],
   "source": []
  },
  {
   "cell_type": "markdown",
   "id": "becac2e4",
   "metadata": {},
   "source": [
    "## 9. Faça uma visualização de `Axes(2,2)` com os seguintes gráficos em ordem:\n",
    "- histograma com a idade de todos os jogadores\n",
    "- histograma com a idade dos jogadores do Real Madrid\n",
    "- histograma com a idade dos jogadores do FC Barcelona\n",
    "- Histograma com a idade dos jogadores do Paris Saint-Germain\n",
    "\n",
    "Usar o seguinte intervalo de idades para cada um dos hitogramas.\n",
    "```\n",
    "[16, 20, 24, 28, 32, 34, 38, 40, 42]\n",
    "```\n",
    "\n",
    "Obs: formate e identifique corretamente cada um dos gráficos.\n",
    "\n",
    "\n",
    "**Resultado Esperado:**\n",
    "\n",
    "![](dados/fig-tg2-ex9.png)"
   ]
  },
  {
   "cell_type": "code",
   "execution_count": 93,
   "id": "33bd7cf5",
   "metadata": {},
   "outputs": [
    {
     "data": {
      "text/html": [
       "<div>\n",
       "<style scoped>\n",
       "    .dataframe tbody tr th:only-of-type {\n",
       "        vertical-align: middle;\n",
       "    }\n",
       "\n",
       "    .dataframe tbody tr th {\n",
       "        vertical-align: top;\n",
       "    }\n",
       "\n",
       "    .dataframe thead th {\n",
       "        text-align: right;\n",
       "    }\n",
       "</style>\n",
       "<table border=\"1\" class=\"dataframe\">\n",
       "  <thead>\n",
       "    <tr style=\"text-align: right;\">\n",
       "      <th></th>\n",
       "      <th>ID</th>\n",
       "      <th>Name</th>\n",
       "      <th>Club</th>\n",
       "      <th>Photo</th>\n",
       "      <th>Flag</th>\n",
       "      <th>Nationality</th>\n",
       "      <th>Club Logo</th>\n",
       "      <th>Value</th>\n",
       "      <th>International Reputation</th>\n",
       "      <th>Age</th>\n",
       "      <th>...</th>\n",
       "      <th>ShortPassing</th>\n",
       "      <th>Body Type</th>\n",
       "      <th>RDM</th>\n",
       "      <th>Agility</th>\n",
       "      <th>Jersey Number</th>\n",
       "      <th>RF</th>\n",
       "      <th>Potential</th>\n",
       "      <th>Height</th>\n",
       "      <th>BallControl</th>\n",
       "      <th>LDM</th>\n",
       "    </tr>\n",
       "  </thead>\n",
       "  <tbody>\n",
       "    <tr>\n",
       "      <th>0</th>\n",
       "      <td>158023</td>\n",
       "      <td>L. Messi</td>\n",
       "      <td>FC Barcelona</td>\n",
       "      <td>https://cdn.sofifa.org/players/4/19/158023.png</td>\n",
       "      <td>https://cdn.sofifa.org/flags/52.png</td>\n",
       "      <td>Argentina</td>\n",
       "      <td>https://cdn.sofifa.org/teams/2/light/241.png</td>\n",
       "      <td>€110.5M</td>\n",
       "      <td>5.0</td>\n",
       "      <td>31</td>\n",
       "      <td>...</td>\n",
       "      <td>90.0</td>\n",
       "      <td>Messi</td>\n",
       "      <td>61+2</td>\n",
       "      <td>91.0</td>\n",
       "      <td>10.0</td>\n",
       "      <td>93+2</td>\n",
       "      <td>94</td>\n",
       "      <td>5'7</td>\n",
       "      <td>96.0</td>\n",
       "      <td>61+2</td>\n",
       "    </tr>\n",
       "    <tr>\n",
       "      <th>1</th>\n",
       "      <td>20801</td>\n",
       "      <td>Cristiano Ronaldo</td>\n",
       "      <td>Juventus</td>\n",
       "      <td>https://cdn.sofifa.org/players/4/19/20801.png</td>\n",
       "      <td>https://cdn.sofifa.org/flags/38.png</td>\n",
       "      <td>Portugal</td>\n",
       "      <td>https://cdn.sofifa.org/teams/2/light/45.png</td>\n",
       "      <td>€77M</td>\n",
       "      <td>5.0</td>\n",
       "      <td>33</td>\n",
       "      <td>...</td>\n",
       "      <td>81.0</td>\n",
       "      <td>C. Ronaldo</td>\n",
       "      <td>61+3</td>\n",
       "      <td>87.0</td>\n",
       "      <td>7.0</td>\n",
       "      <td>90+3</td>\n",
       "      <td>94</td>\n",
       "      <td>6'2</td>\n",
       "      <td>94.0</td>\n",
       "      <td>61+3</td>\n",
       "    </tr>\n",
       "    <tr>\n",
       "      <th>2</th>\n",
       "      <td>190871</td>\n",
       "      <td>Neymar Jr</td>\n",
       "      <td>Paris Saint-Germain</td>\n",
       "      <td>https://cdn.sofifa.org/players/4/19/190871.png</td>\n",
       "      <td>https://cdn.sofifa.org/flags/54.png</td>\n",
       "      <td>Brazil</td>\n",
       "      <td>https://cdn.sofifa.org/teams/2/light/73.png</td>\n",
       "      <td>€118.5M</td>\n",
       "      <td>5.0</td>\n",
       "      <td>26</td>\n",
       "      <td>...</td>\n",
       "      <td>84.0</td>\n",
       "      <td>Neymar</td>\n",
       "      <td>60+3</td>\n",
       "      <td>96.0</td>\n",
       "      <td>10.0</td>\n",
       "      <td>89+3</td>\n",
       "      <td>93</td>\n",
       "      <td>5'9</td>\n",
       "      <td>95.0</td>\n",
       "      <td>60+3</td>\n",
       "    </tr>\n",
       "    <tr>\n",
       "      <th>3</th>\n",
       "      <td>193080</td>\n",
       "      <td>De Gea</td>\n",
       "      <td>Manchester United</td>\n",
       "      <td>https://cdn.sofifa.org/players/4/19/193080.png</td>\n",
       "      <td>https://cdn.sofifa.org/flags/45.png</td>\n",
       "      <td>Spain</td>\n",
       "      <td>https://cdn.sofifa.org/teams/2/light/11.png</td>\n",
       "      <td>€72M</td>\n",
       "      <td>4.0</td>\n",
       "      <td>27</td>\n",
       "      <td>...</td>\n",
       "      <td>50.0</td>\n",
       "      <td>Lean</td>\n",
       "      <td>NaN</td>\n",
       "      <td>60.0</td>\n",
       "      <td>1.0</td>\n",
       "      <td>NaN</td>\n",
       "      <td>93</td>\n",
       "      <td>6'4</td>\n",
       "      <td>42.0</td>\n",
       "      <td>NaN</td>\n",
       "    </tr>\n",
       "    <tr>\n",
       "      <th>4</th>\n",
       "      <td>192985</td>\n",
       "      <td>K. De Bruyne</td>\n",
       "      <td>Manchester City</td>\n",
       "      <td>https://cdn.sofifa.org/players/4/19/192985.png</td>\n",
       "      <td>https://cdn.sofifa.org/flags/7.png</td>\n",
       "      <td>Belgium</td>\n",
       "      <td>https://cdn.sofifa.org/teams/2/light/10.png</td>\n",
       "      <td>€102M</td>\n",
       "      <td>4.0</td>\n",
       "      <td>27</td>\n",
       "      <td>...</td>\n",
       "      <td>92.0</td>\n",
       "      <td>Normal</td>\n",
       "      <td>77+3</td>\n",
       "      <td>79.0</td>\n",
       "      <td>7.0</td>\n",
       "      <td>87+3</td>\n",
       "      <td>92</td>\n",
       "      <td>5'11</td>\n",
       "      <td>91.0</td>\n",
       "      <td>77+3</td>\n",
       "    </tr>\n",
       "  </tbody>\n",
       "</table>\n",
       "<p>5 rows × 88 columns</p>\n",
       "</div>"
      ],
      "text/plain": [
       "       ID               Name                 Club  \\\n",
       "0  158023           L. Messi         FC Barcelona   \n",
       "1   20801  Cristiano Ronaldo             Juventus   \n",
       "2  190871          Neymar Jr  Paris Saint-Germain   \n",
       "3  193080             De Gea    Manchester United   \n",
       "4  192985       K. De Bruyne      Manchester City   \n",
       "\n",
       "                                            Photo  \\\n",
       "0  https://cdn.sofifa.org/players/4/19/158023.png   \n",
       "1   https://cdn.sofifa.org/players/4/19/20801.png   \n",
       "2  https://cdn.sofifa.org/players/4/19/190871.png   \n",
       "3  https://cdn.sofifa.org/players/4/19/193080.png   \n",
       "4  https://cdn.sofifa.org/players/4/19/192985.png   \n",
       "\n",
       "                                  Flag Nationality  \\\n",
       "0  https://cdn.sofifa.org/flags/52.png   Argentina   \n",
       "1  https://cdn.sofifa.org/flags/38.png    Portugal   \n",
       "2  https://cdn.sofifa.org/flags/54.png      Brazil   \n",
       "3  https://cdn.sofifa.org/flags/45.png       Spain   \n",
       "4   https://cdn.sofifa.org/flags/7.png     Belgium   \n",
       "\n",
       "                                      Club Logo    Value  \\\n",
       "0  https://cdn.sofifa.org/teams/2/light/241.png  €110.5M   \n",
       "1   https://cdn.sofifa.org/teams/2/light/45.png     €77M   \n",
       "2   https://cdn.sofifa.org/teams/2/light/73.png  €118.5M   \n",
       "3   https://cdn.sofifa.org/teams/2/light/11.png     €72M   \n",
       "4   https://cdn.sofifa.org/teams/2/light/10.png    €102M   \n",
       "\n",
       "   International Reputation  Age  ... ShortPassing   Body Type   RDM  Agility  \\\n",
       "0                       5.0   31  ...         90.0       Messi  61+2     91.0   \n",
       "1                       5.0   33  ...         81.0  C. Ronaldo  61+3     87.0   \n",
       "2                       5.0   26  ...         84.0      Neymar  60+3     96.0   \n",
       "3                       4.0   27  ...         50.0        Lean   NaN     60.0   \n",
       "4                       4.0   27  ...         92.0      Normal  77+3     79.0   \n",
       "\n",
       "   Jersey Number    RF  Potential  Height BallControl   LDM  \n",
       "0           10.0  93+2         94     5'7        96.0  61+2  \n",
       "1            7.0  90+3         94     6'2        94.0  61+3  \n",
       "2           10.0  89+3         93     5'9        95.0  60+3  \n",
       "3            1.0   NaN         93     6'4        42.0   NaN  \n",
       "4            7.0  87+3         92    5'11        91.0  77+3  \n",
       "\n",
       "[5 rows x 88 columns]"
      ]
     },
     "execution_count": 93,
     "metadata": {},
     "output_type": "execute_result"
    }
   ],
   "source": [
    "fifa.head()"
   ]
  },
  {
   "cell_type": "code",
   "execution_count": 113,
   "id": "e005dca7",
   "metadata": {},
   "outputs": [
    {
     "data": {
      "image/png": "[encoded data removed]",
      "text/plain": [
       "<Figure size 432x288 with 4 Axes>"
      ]
     },
     "metadata": {
      "needs_background": "light"
     },
     "output_type": "display_data"
    }
   ],
   "source": [
    "# O Enunciado solicita que seja utilizado os mesmos intervalos(`bins`) para todos os gráficos.\n",
    "# No entanto, o gráfico fornecido só utiliza os bins informados para o subplot \"Todos os Clubes\"\n",
    "# Optei por tentar reproduzir o gráfico de forma fiel.\n",
    "bins = [16, 20, 24, 28, 32, 34, 38, 40, 42]\n",
    "fig, ((ax1, ax2), (ax3, ax4)) = plt.subplots(2, 2)\n",
    "fig.suptitle(\"Histograma de Idades\")\n",
    "\n",
    "# Todos os times\n",
    "ax1.hist(fifa['Age'],bins=bins)\n",
    "ax1.set_title(\"Todos os Clubes\")\n",
    "ax1.xaxis.set_ticks(bins)\n",
    "\n",
    "# Real Madrid\n",
    "ax2.hist(fifa['Age'][fifa.Club == \"Real Madrid\"])\n",
    "ax2.set_title(\"Real Madrid\")\n",
    "ax2.xaxis.set_ticks(bins)\n",
    "\n",
    "# FC Barcelona\n",
    "ax3.hist(fifa['Age'][fifa.Club == \"FC Barcelona\"])\n",
    "ax3.set_title(\"FC Barcelona\")\n",
    "ax3.xaxis.set_ticks(bins)\n",
    "\n",
    "# Paris Saint-Germain\n",
    "ax4.hist(fifa['Age'][fifa.Club == \"Paris Saint-Germain\"])\n",
    "ax4.set_title(\"Paris Saint-Germain\")\n",
    "ax4.xaxis.set_ticks(bins)\n",
    "\n",
    "\n",
    "for ax in [ax1, ax2, ax3, ax4]:\n",
    "    ax.set(xlabel='Idades', ylabel='Frequência')\n",
    "fig.tight_layout()\n",
    "plt.show()"
   ]
  },
  {
   "cell_type": "markdown",
   "id": "49a26458",
   "metadata": {},
   "source": [
    "## 10. Encontre os 5 clubes com maior e menor potêncial médio dos jogadores. Depois, faça uma figura com dois gráficos `boxplot` do `Dribbling`, sendo um dos 5 maiores potênciais médio e outro dos 5 menores potênciais médio.\n",
    "\n",
    "**Resultado Esperado:**\n",
    "\n",
    "![](dados/fig-tg2-ex10.png)"
   ]
  },
  {
   "cell_type": "code",
   "execution_count": null,
   "id": "8b166bb1",
   "metadata": {},
   "outputs": [],
   "source": []
  }
 ],
 "metadata": {
  "kernelspec": {
   "display_name": "Python 3",
   "language": "python",
   "name": "python3"
  },
  "language_info": {
   "codemirror_mode": {
    "name": "ipython",
    "version": 3
   },
   "file_extension": ".py",
   "mimetype": "text/x-python",
   "name": "python",
   "nbconvert_exporter": "python",
   "pygments_lexer": "ipython3",
   "version": "3.8.8"
  }
 },
 "nbformat": 4,
 "nbformat_minor": 5
}
